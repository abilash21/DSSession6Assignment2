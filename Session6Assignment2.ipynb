{
 "cells": [
  {
   "cell_type": "code",
   "execution_count": 1,
   "metadata": {
    "collapsed": true
   },
   "outputs": [],
   "source": [
    "def getmean(lst):\n",
    "    \"\"\"\n",
    "    Returns the Average of values passed in a List\n",
    "    \n",
    "    \"\"\"\n",
    "    sumvalue = sum(lst)  # Get the sum of the List values\n",
    "    count = len(lst) # Get the count of the List items\n",
    "    return sumvalue/count # Sum of all value divided by the count is the Mean"
   ]
  },
  {
   "cell_type": "code",
   "execution_count": 2,
   "metadata": {
    "collapsed": true
   },
   "outputs": [],
   "source": [
    "def getvariance(lst, mean):\n",
    "    \"\"\"\n",
    "    Returns the variance Square as the result for the list and its mean\n",
    "    Parameter:\n",
    "    lst : its a list of numbers\n",
    "    mean: a number which a mean of the values in the list\n",
    "    \"\"\"\n",
    "    variancesum = [(x-mean)**2 for x in lst] # varaincesum = (x-mean)^2\n",
    "    return sum(variancesum)/(len(lst)-1) # variancesum divided by count(n, count of list)-1"
   ]
  },
  {
   "cell_type": "code",
   "execution_count": 5,
   "metadata": {},
   "outputs": [
    {
     "name": "stdout",
     "output_type": "stream",
     "text": [
      "Mean= 58.5\n",
      "Varaince of tree in California is: 6219.9\n"
     ]
    }
   ],
   "source": [
    "treeheights =[3,21,98,203,17,9]\n",
    "mean = getmean(treeheights)\n",
    "print(\"Mean=\", mean)\n",
    "variance = getvariance(treeheights, mean)\n",
    "print(\"Varaince of tree heights in California is:\", variance)"
   ]
  },
  {
   "cell_type": "code",
   "execution_count": null,
   "metadata": {
    "collapsed": true
   },
   "outputs": [],
   "source": []
  }
 ],
 "metadata": {
  "kernelspec": {
   "display_name": "Python 3",
   "language": "python",
   "name": "python3"
  },
  "language_info": {
   "codemirror_mode": {
    "name": "ipython",
    "version": 3
   },
   "file_extension": ".py",
   "mimetype": "text/x-python",
   "name": "python",
   "nbconvert_exporter": "python",
   "pygments_lexer": "ipython3",
   "version": "3.6.3"
  }
 },
 "nbformat": 4,
 "nbformat_minor": 2
}
